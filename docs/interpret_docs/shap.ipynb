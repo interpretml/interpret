{
 "cells": [
  {
   "cell_type": "markdown",
   "id": "lovely-birthday",
   "metadata": {},
   "source": [
    "# Shapley Additive Explanations\n",
    "\n",
    "*See the backing repository for SHAP [here](https://github.com/slundberg/shap).*\n",
    "\n",
    "## Summary\n",
    "\n",
    "SHAP is a framework that explains the output of any model using Shapley values, a game theoretic approach often used for optimal credit allocation. While this can be used on any blackbox models, SHAP  can compute more efficiently on specific model classes (like tree ensembles). These optimizations become important at scale -- calculating many SHAP values is feasible on optimized model classes, but can be comparatively slow in the model-agnostic setting. Due to their additive nature, individual (local) SHAP values can be aggregated and also used for global explanations. SHAP can be used as a foundation for deeper ML analysis such as model monitoring, fairness and cohort analysis.\n",
    "\n",
    "## How it Works\n",
    "\n",
    "Christoph Molnar's \"Interpretable Machine Learning\" e-book {cite}`molnar2020interpretable` has an excellent overview on SHAP that can be found [here](https://christophm.github.io/interpretable-ml-book/shap.html).\n",
    "\n",
    "The conceiving paper \"A Unified Approach to Interpreting Model Predictions\" {cite}`lundberg2017unified` can be found on arXiv [here](https://arxiv.org/pdf/1602.04938.pdf).\n",
    "\n",
    "If you find video as a better medium for learning the algorithm, you can find a conceptual overview of the algorithm by the author Scott Lundberg below:\n",
    "[![The Science Behind InterpretML: SHAP](http://img.youtube.com/vi/-taOhqkiuIo/0.jpg)](http://www.youtube.com/watch?v=-taOhqkiuIo \"The Science Behind InterpretML: SHAP\")"
   ]
  },
  {
   "cell_type": "markdown",
   "id": "overhead-tournament",
   "metadata": {},
   "source": [
    "## Code Example\n",
    "\n",
    "The following code will train a blackbox pipeline for the breast cancer dataset. Aftewards it will interpret the pipeline and its decisions with SHAP. The visualizations provided will be for local explanations."
   ]
  },
  {
   "cell_type": "code",
   "execution_count": null,
   "id": "personalized-symphony",
   "metadata": {},
   "outputs": [],
   "source": [
    "from interpret import set_visualize_provider\n",
    "from interpret.provider import InlineProvider\n",
    "set_visualize_provider(InlineProvider())"
   ]
  },
  {
   "cell_type": "code",
   "execution_count": null,
   "id": "robust-possible",
   "metadata": {},
   "outputs": [],
   "source": [
    "from sklearn.datasets import load_breast_cancer\n",
    "from sklearn.model_selection import train_test_split\n",
    "\n",
    "from sklearn.ensemble import RandomForestClassifier\n",
    "from sklearn.decomposition import PCA\n",
    "from sklearn.pipeline import Pipeline\n",
    "\n",
    "from interpret import show\n",
    "from interpret.blackbox import ShapKernel\n",
    "\n",
    "seed = 1\n",
    "X, y = load_breast_cancer(return_X_y=True, as_frame=True)\n",
    "X_train, X_test, y_train, y_test = train_test_split(X, y, test_size=0.20, random_state=seed)\n",
    "\n",
    "pca = PCA()\n",
    "rf = RandomForestClassifier(n_estimators=100, n_jobs=-1)\n",
    "\n",
    "blackbox_model = Pipeline([('pca', pca), ('rf', rf)])\n",
    "blackbox_model.fit(X_train, y_train)\n",
    "\n",
    "shap = ShapKernel(predict_fn=blackbox_model.predict_proba, data=X_train)\n",
    "shap_local = shap.explain_local(X_test[:5], y_test[:5])\n",
    "\n",
    "show(shap_local)"
   ]
  },
  {
   "cell_type": "markdown",
   "id": "noble-issue",
   "metadata": {},
   "source": [
    "## Further Resources\n",
    "\n",
    "- [SHAP GitHub Repository](https://github.com/slundberg/shap)\n",
    "- [Conceptual Video for SHAP](https://www.youtube.com/watch?v=-taOhqkiuIo)"
   ]
  },
  {
   "cell_type": "markdown",
   "id": "pleased-premiere",
   "metadata": {},
   "source": [
    "## Bibliography\n",
    "\n",
    "```{bibliography} references.bib\n",
    ":style: unsrt\n",
    ":filter: docname in docnames\n",
    "```"
   ]
  },
  {
   "cell_type": "markdown",
   "id": "sustainable-nicaragua",
   "metadata": {},
   "source": [
    "## API\n",
    "\n",
    "### ShapKernel\n",
    "\n",
    "```{eval-rst}\n",
    ".. autoclass:: interpret.blackbox.ShapKernel\n",
    "   :members:\n",
    "   :inherited-members:\n",
    "```"
   ]
  },
  {
   "cell_type": "code",
   "execution_count": null,
   "id": "significant-single",
   "metadata": {},
   "outputs": [],
   "source": []
  }
 ],
 "metadata": {
  "celltoolbar": "Tags",
  "kernelspec": {
   "display_name": "Python 3",
   "language": "python",
   "name": "python3"
  },
  "language_info": {
   "codemirror_mode": {
    "name": "ipython",
    "version": 3
   },
   "file_extension": ".py",
   "mimetype": "text/x-python",
   "name": "python",
   "nbconvert_exporter": "python",
   "pygments_lexer": "ipython3",
   "version": "3.7.10"
  }
 },
 "nbformat": 4,
 "nbformat_minor": 5
}
