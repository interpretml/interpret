{
 "cells": [
  {
   "cell_type": "markdown",
   "id": "cathedral-typing",
   "metadata": {},
   "source": [
    "# Decision Tree\n",
    "\n",
    "*See the backing repository for Decision Tree [here](https://github.com/scikit-learn/scikit-learn).*\n",
    "\n",
    "## Summary\n",
    "\n",
    "A supervised decision tree. This is a recursive partitioning method where the feature space is continually split into further partitions based on a split criteria. A predicted value is learned for each partition in the \"leaf nodes\" of the learned tree. This is a light wrapper to the decision trees exposed in `scikit-learn`. Single decision trees often have weak model performance, but are fast to train and great at identifying associations. Low depth decision trees are easy to interpret, but quickly become complex and unintelligible as the depth of the tree increases.  \n",
    "\n",
    "## How it Works\n",
    "\n",
    "Christoph Molnar's \"Interpretable Machine Learning\" e-book {cite}`molnar2020interpretable` has an excellent overview on decision trees that can be found [here](https://christophm.github.io/interpretable-ml-book/tree.html).\n",
    "\n",
    "For implementation specific details, scikit-learn's user guide {cite}`pedregosa2011scikit` on decision trees is solid and can be found [here](https://scikit-learn.org/stable/modules/tree.html#tree).\n",
    "\n",
    "## Code Example\n",
    "\n",
    "The following code will train an decision tree classifier for the breast cancer dataset. The visualizations provided will be for both global and local explanations."
   ]
  },
  {
   "cell_type": "code",
   "execution_count": null,
   "id": "surprising-smith",
   "metadata": {},
   "outputs": [],
   "source": [
    "from interpret import set_visualize_provider\n",
    "from interpret.provider import InlineProvider\n",
    "set_visualize_provider(InlineProvider())"
   ]
  },
  {
   "cell_type": "code",
   "execution_count": null,
   "id": "divine-science",
   "metadata": {},
   "outputs": [],
   "source": [
    "from sklearn.datasets import load_breast_cancer\n",
    "from sklearn.model_selection import train_test_split\n",
    "\n",
    "from interpret.glassbox import ClassificationTree\n",
    "from interpret import show\n",
    "\n",
    "seed = 1\n",
    "X, y = load_breast_cancer(return_X_y=True, as_frame=True)\n",
    "X_train, X_test, y_train, y_test = train_test_split(X, y, test_size=0.20, random_state=seed)\n",
    "\n",
    "dt = ClassificationTree(random_state=seed)\n",
    "dt.fit(X_train, y_train)\n",
    "\n",
    "dt_global = dt.explain_global()\n",
    "show(dt_global)\n",
    "\n",
    "dt_local = dt.explain_local(X_test[:5], y_test[:5])\n",
    "show(dt_local)"
   ]
  },
  {
   "cell_type": "markdown",
   "id": "metropolitan-idaho",
   "metadata": {},
   "source": [
    "## Further Resources\n",
    "\n",
    "- [Wikipedia on Decision Trees](https://en.wikipedia.org/wiki/Decision_tree_learning)\n",
    "- [scikit-learn on their Decision Tree module](https://scikit-learn.org/stable/modules/tree.html)"
   ]
  },
  {
   "cell_type": "markdown",
   "id": "supreme-prescription",
   "metadata": {},
   "source": [
    "## Bibliography\n",
    "\n",
    "```{bibliography} references.bib\n",
    ":style: unsrt\n",
    ":filter: docname in docnames\n",
    "```"
   ]
  },
  {
   "cell_type": "markdown",
   "id": "adult-finder",
   "metadata": {},
   "source": [
    "## API\n",
    "\n",
    "### ClassificationTree\n",
    "\n",
    "```{eval-rst}\n",
    ".. autoclass:: interpret.glassbox.ClassificationTree\n",
    "   :members:\n",
    "   :inherited-members:\n",
    "```\n",
    "\n",
    "### RegressionTree\n",
    "\n",
    "```{eval-rst}\n",
    ".. autoclass:: interpret.glassbox.RegressionTree\n",
    "   :members:\n",
    "   :inherited-members:\n",
    "```"
   ]
  },
  {
   "cell_type": "code",
   "execution_count": null,
   "id": "consecutive-documentary",
   "metadata": {},
   "outputs": [],
   "source": []
  }
 ],
 "metadata": {
  "celltoolbar": "Tags",
  "kernelspec": {
   "display_name": "Python 3",
   "language": "python",
   "name": "python3"
  },
  "language_info": {
   "codemirror_mode": {
    "name": "ipython",
    "version": 3
   },
   "file_extension": ".py",
   "mimetype": "text/x-python",
   "name": "python",
   "nbconvert_exporter": "python",
   "pygments_lexer": "ipython3",
   "version": "3.7.10"
  }
 },
 "nbformat": 4,
 "nbformat_minor": 5
}
