{
 "cells": [
  {
   "cell_type": "markdown",
   "id": "employed-cloud",
   "metadata": {},
   "source": [
    "# Morris Sensitivity Analysis\n",
    "\n",
    "*See the backing repository for Morris [here](https://github.com/SALib/SALib).*\n",
    "\n",
    "## Summary\n",
    "\n",
    "Also known as the Morris method{cite}`morris1991factorial`, this is a one-step-at-a-time (OAT) global sensitivity analysis where only one input has its level (discretized value) adjusted per run. Relative to other sensitivity analysis algorithms, the Morris method is fast (fewer model executions) but comes at the cost of not being able to differentiate non-linearities with interactions. This is commonly used for screening which inputs are important enough for further analysis. The implementation uses `SALib`{cite}`herman2017salib` for its Morris method.\n",
    "\n",
    "## How it Works\n",
    "\n",
    "The `gsa-module` package has a good conceptual overview of the Morris method for screening [here](https://gsa-module.readthedocs.io/en/stable/implementation/morris_screening_method.html).\n",
    "\n",
    "The `SALib` package describes what sensitivity analysis is, and the steps required in conducting it at a basic level [here](https://salib.readthedocs.io/en/latest/basics.html).\n",
    "\n",
    "The conceiving paper for Morris method{cite}`morris1991factorial` can be found [here](https://abe.ufl.edu/Faculty/jjones/ABE_5646/2010/Morris.1991%20SA%20paper.pdf).\n",
    "\n",
    "## Code Example\n",
    "\n",
    "The following code will train a blackbox pipeline for the breast cancer dataset. Aftewards it will interpret the pipeline and its decisions with Morris method. The visualizations provided will be for global explanations."
   ]
  },
  {
   "cell_type": "code",
   "execution_count": null,
   "id": "arbitrary-schedule",
   "metadata": {},
   "outputs": [],
   "source": [
    "from interpret import set_visualize_provider\n",
    "from interpret.provider import InlineProvider\n",
    "set_visualize_provider(InlineProvider())"
   ]
  },
  {
   "cell_type": "code",
   "execution_count": null,
   "id": "moved-fabric",
   "metadata": {},
   "outputs": [],
   "source": [
    "from sklearn.datasets import load_breast_cancer\n",
    "from sklearn.model_selection import train_test_split\n",
    "\n",
    "from sklearn.ensemble import RandomForestClassifier\n",
    "from sklearn.decomposition import PCA\n",
    "from sklearn.pipeline import Pipeline\n",
    "\n",
    "from interpret import show\n",
    "from interpret.blackbox import MorrisSensitivity\n",
    "\n",
    "seed = 1\n",
    "X, y = load_breast_cancer(return_X_y=True, as_frame=True)\n",
    "X_train, X_test, y_train, y_test = train_test_split(X, y, test_size=0.20, random_state=seed)\n",
    "\n",
    "pca = PCA()\n",
    "rf = RandomForestClassifier(n_estimators=100, n_jobs=-1)\n",
    "\n",
    "blackbox_model = Pipeline([('pca', pca), ('rf', rf)])\n",
    "blackbox_model.fit(X_train, y_train)\n",
    "\n",
    "msa = MorrisSensitivity(predict_fn=blackbox_model.predict_proba, data=X_train)\n",
    "msa_global = msa.explain_global()\n",
    "\n",
    "show(msa_global)"
   ]
  },
  {
   "cell_type": "markdown",
   "id": "fourth-armstrong",
   "metadata": {},
   "source": [
    "## Further Resources\n",
    "\n",
    "- [Wikipedia on Morris Method](https://en.wikipedia.org/wiki/Morris_method)"
   ]
  },
  {
   "cell_type": "markdown",
   "id": "black-arcade",
   "metadata": {},
   "source": [
    "## Bibliography\n",
    "\n",
    "```{bibliography} references.bib\n",
    ":style: unsrt\n",
    ":filter: docname in docnames\n",
    "```"
   ]
  },
  {
   "cell_type": "markdown",
   "id": "unlikely-finder",
   "metadata": {},
   "source": [
    "## API\n",
    "\n",
    "### MorrisSensitivity\n",
    "\n",
    "```{eval-rst}\n",
    ".. autoclass::  interpret.blackbox.MorrisSensitivity\n",
    "   :members:\n",
    "   :inherited-members:\n",
    "```"
   ]
  },
  {
   "cell_type": "code",
   "execution_count": null,
   "id": "experienced-hardware",
   "metadata": {},
   "outputs": [],
   "source": []
  }
 ],
 "metadata": {
  "celltoolbar": "Tags",
  "kernelspec": {
   "display_name": "Python 3",
   "language": "python",
   "name": "python3"
  },
  "language_info": {
   "codemirror_mode": {
    "name": "ipython",
    "version": 3
   },
   "file_extension": ".py",
   "mimetype": "text/x-python",
   "name": "python",
   "nbconvert_exporter": "python",
   "pygments_lexer": "ipython3",
   "version": "3.7.10"
  }
 },
 "nbformat": 4,
 "nbformat_minor": 5
}
