{
 "cells": [
  {
   "cell_type": "markdown",
   "id": "listed-vector",
   "metadata": {},
   "source": [
    "# Linear Model\n",
    "\n",
    "*See the backing repository for Linear Model [here](https://github.com/scikit-learn/scikit-learn).*\n",
    "\n",
    "## Summary\n",
    "\n",
    "Linear / logistic regression, where the relationship between the response and its explanatory variables are modeled with linear predictor functions. This is one of the foundational models in statistical modeling, has quick training time and offers good interpretability, but has varying model performance. The implementation is a light wrapper to the linear / logistic regression exposed in `scikit-learn`.\n",
    "\n",
    "## How it Works\n",
    "\n",
    "Christoph Molnar's \"Interpretable Machine Learning\" e-book {cite}`molnar2020interpretable` has an excellent overview on linear and regression models that can be found [here](https://christophm.github.io/interpretable-ml-book/limo.html) and [here](https://christophm.github.io/interpretable-ml-book/logistic.html) respectively.\n",
    "\n",
    "For implementation specific details, scikit-learn's user guide {cite}`pedregosa2011scikit` on linear and regression models are solid and can be found [here](https://scikit-learn.org/stable/modules/linear_model.html).\n",
    "\n",
    "## Code Example\n",
    "\n",
    "The following code will train a logistic regression for the breast cancer dataset. The visualizations provided will be for both global and local explanations."
   ]
  },
  {
   "cell_type": "code",
   "execution_count": null,
   "id": "chemical-warrior",
   "metadata": {},
   "outputs": [],
   "source": [
    "from interpret import set_visualize_provider\n",
    "from interpret.provider import InlineProvider\n",
    "set_visualize_provider(InlineProvider())"
   ]
  },
  {
   "cell_type": "code",
   "execution_count": null,
   "id": "liberal-aurora",
   "metadata": {},
   "outputs": [],
   "source": [
    "from sklearn.datasets import load_breast_cancer\n",
    "from sklearn.model_selection import train_test_split\n",
    "\n",
    "from interpret.glassbox import LogisticRegression\n",
    "from interpret import show\n",
    "\n",
    "seed = 1\n",
    "X, y = load_breast_cancer(return_X_y=True, as_frame=True)\n",
    "X_train, X_test, y_train, y_test = train_test_split(X, y, test_size=0.20, random_state=seed)\n",
    "\n",
    "lr = LogisticRegression(random_state=seed)\n",
    "lr.fit(X_train, y_train)\n",
    "\n",
    "lr_global = lr.explain_global()\n",
    "show(lr_global)\n",
    "\n",
    "lr_local = lr.explain_local(X_test[:5], y_test[:5])\n",
    "show(lr_local)"
   ]
  },
  {
   "cell_type": "markdown",
   "id": "declared-telephone",
   "metadata": {},
   "source": [
    "## Further Resources\n",
    "\n",
    "- [Wikipedia on Linear Models](https://scikit-learn.org/stable/modules/linear_model.html)\n",
    "- [scikit-learn on their Linear Models module](https://scikit-learn.org/stable/modules/linear_model.html)"
   ]
  },
  {
   "cell_type": "markdown",
   "id": "municipal-tooth",
   "metadata": {},
   "source": [
    "## Bibliography\n",
    "\n",
    "```{bibliography} references.bib\n",
    ":style: unsrt\n",
    ":filter: docname in docnames\n",
    "```"
   ]
  },
  {
   "cell_type": "markdown",
   "id": "unsigned-coral",
   "metadata": {},
   "source": [
    "## API\n",
    "\n",
    "### LinearRegression\n",
    "\n",
    "```{eval-rst}\n",
    ".. autoclass:: interpret.glassbox.LinearRegression\n",
    "   :members:\n",
    "   :inherited-members:\n",
    "```\n",
    "\n",
    "### LogisticRegression\n",
    "\n",
    "```{eval-rst}\n",
    ".. autoclass:: interpret.glassbox.LogisticRegression\n",
    "   :members:\n",
    "   :inherited-members:\n",
    "```"
   ]
  },
  {
   "cell_type": "code",
   "execution_count": null,
   "id": "rotary-savage",
   "metadata": {},
   "outputs": [],
   "source": []
  }
 ],
 "metadata": {
  "celltoolbar": "Tags",
  "kernelspec": {
   "display_name": "Python 3",
   "language": "python",
   "name": "python3"
  },
  "language_info": {
   "codemirror_mode": {
    "name": "ipython",
    "version": 3
   },
   "file_extension": ".py",
   "mimetype": "text/x-python",
   "name": "python",
   "nbconvert_exporter": "python",
   "pygments_lexer": "ipython3",
   "version": "3.7.10"
  }
 },
 "nbformat": 4,
 "nbformat_minor": 5
}
