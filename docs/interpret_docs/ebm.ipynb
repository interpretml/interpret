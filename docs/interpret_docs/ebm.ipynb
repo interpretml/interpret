{
 "cells": [
  {
   "cell_type": "markdown",
   "id": "numeric-luxury",
   "metadata": {},
   "source": [
    "# Explainable Boosting Machine\n",
    "\n",
    "*See the reference paper for full details {cite}`lou2013accurate`.*\n",
    "\n",
    "## Summary\n",
    "\n",
    "Explainable Boosting Machine (EBM) is a tree-based, cyclic gradient boosting Generalized Additive Model with automatic interaction detection. EBMs are often as accurate as state-of-the-art blackbox models while remaining completely interpretable. Although EBMs are often slower to train than other modern algorithms, EBMs are extremely compact and fast at prediction time.\n",
    "\n",
    "## How it Works\n",
    "\n",
    "As part of the framework, InterpretML also includes a new interpretability algorithm -- the Explainable Boosting Machine (EBM). EBM is a glassbox model, designed to have accuracy comparable to state-of-the-art machine learning methods like Random Forest and Boosted Trees, while being highly intelligibile and explainable. EBM is a generalized additive model (GAM) of the form:\n",
    "\n",
    "$$\n",
    "g(E[y]) = \\beta_0 + \\sum f_j(x_j)\n",
    "$$\n",
    "\n",
    "where $g$ is the link function that adapts the GAM to different settings such as regression or classification.\n",
    "\n",
    "EBM has a few major improvements over traditional GAMs {cite}`hastie1987generalized`. First, EBM learns each feature function $f_j$ using modern machine learning techniques such as bagging and gradient boosting. The boosting procedure is carefully restricted to train on one feature at a time in round-robin fashion using a very low learning rate so that feature order does not matter. It round-robin cycles through features to mitigate the effects of co-linearity and to learn the best feature function $f_j$ for each feature to show how each feature contributes to the model's prediction for the problem. Second, EBM can automatically detect and include pairwise interaction terms of the form:\n",
    "\n",
    "$$\n",
    "g(E[y]) = \\beta_0 + \\sum f_i(x_i)  + \\sum f_{i,j}(x_i,x_j) \n",
    "$$\n",
    "\n",
    "which further increases accuracy while maintaining intelligibility. EBM is a fast implementation of the GA2M algorithm {cite}`lou2013accurate`, written in C++ and Python. The implementation is parallelizable, and takes advantage of joblib to provide multi-core and multi-machine parallelization. The algorithmic details for the training procedure, selection of pairwise interaction terms, and case studies can be found in {cite}`lou2012intelligible,lou2013accurate,caruana2015intelligible`.\n",
    "\n",
    "EBMs are highly intelligible because the contribution of each feature to a final prediction can be visualized and understood by plotting $f_j$. Because EBM is an additive model, each feature contributes to predictions in a modular way that makes it easy to reason about the contribution of each feature to the prediction.\n",
    "\n",
    "To make individual predictions, each function $f_j$ acts as a lookup table per feature, and returns a term contribution. These term contributions are simply added up, and passed through the link function $g$ to compute the final prediction. Because of the modularity (additivity), term contributions can be sorted and visualized to show which features had the most impact on any individual prediction.\n",
    "\n",
    "To keep the individual terms additive, EBM pays an additional training cost, making it somewhat slower than similar methods. However, because making predictions involves simple additions and lookups inside of the feature functions $f_j$, EBMs are one of the fastest models to execute at prediction time. EBM's light memory usage and fast predict times makes it particularly attractive for model deployment in production.\n",
    "\n",
    "If you find video as a better medium for learning the algorithm, you can find a conceptual overview of the algorithm below:\n",
    "[![Video for explaining how EBM works.](http://img.youtube.com/vi/MREiHgHgl0k/0.jpg)](http://www.youtube.com/watch?v=MREiHgHgl0k \"The Science Behind InterpretML: Explainable Boosting Machine\")\n"
   ]
  },
  {
   "cell_type": "markdown",
   "id": "announced-warning",
   "metadata": {},
   "source": [
    "## Code Example\n",
    "\n",
    "The following code will train an EBM classifier for the adult income dataset. The visualizations provided will be for both global and local explanations."
   ]
  },
  {
   "cell_type": "markdown",
   "id": "coated-palestinian",
   "metadata": {},
   "source": [
    "````{margin}\n",
    "```{note}\n",
    "EBM is slow and we don't have loading bars. If it looks like it froze, it's probably still burning all your CPU cycles.\n",
    "\n",
    "All of them.\n",
    "```\n",
    "````"
   ]
  },
  {
   "cell_type": "code",
   "execution_count": null,
   "id": "bibliographic-mouse",
   "metadata": {},
   "outputs": [],
   "source": [
    "from interpret import set_visualize_provider\n",
    "from interpret.provider import InlineProvider\n",
    "set_visualize_provider(InlineProvider())"
   ]
  },
  {
   "cell_type": "code",
   "execution_count": null,
   "id": "packed-excess",
   "metadata": {},
   "outputs": [],
   "source": [
    "import pandas as pd\n",
    "from sklearn.model_selection import train_test_split\n",
    "\n",
    "from interpret.glassbox import ExplainableBoostingClassifier\n",
    "from interpret import show\n",
    "\n",
    "df = pd.read_csv(\n",
    "    \"https://archive.ics.uci.edu/ml/machine-learning-databases/adult/adult.data\",\n",
    "    header=None)\n",
    "df.columns = [\n",
    "    \"Age\", \"WorkClass\", \"fnlwgt\", \"Education\", \"EducationNum\",\n",
    "    \"MaritalStatus\", \"Occupation\", \"Relationship\", \"Race\", \"Gender\",\n",
    "    \"CapitalGain\", \"CapitalLoss\", \"HoursPerWeek\", \"NativeCountry\", \"Income\"\n",
    "]\n",
    "df = df.sample(frac=0.05)\n",
    "train_cols = df.columns[0:-1]\n",
    "label = df.columns[-1]\n",
    "X = df[train_cols]\n",
    "y = df[label]\n",
    "\n",
    "seed = 1\n",
    "X_train, X_test, y_train, y_test = train_test_split(X, y, test_size=0.20, random_state=seed)\n",
    "\n",
    "ebm = ExplainableBoostingClassifier(random_state=seed)\n",
    "ebm.fit(X_train, y_train)\n",
    "\n",
    "ebm_global = ebm.explain_global()\n",
    "show(ebm_global)\n",
    "\n",
    "ebm_local = ebm.explain_local(X_test[:5], y_test[:5])\n",
    "show(ebm_local)"
   ]
  },
  {
   "cell_type": "markdown",
   "id": "occupied-withdrawal",
   "metadata": {},
   "source": [
    "## Further Resources\n",
    "\n",
    "- [Paper: GA2M](https://www.cs.cornell.edu/~yinlou/papers/lou-kdd12.pdf)\n",
    "- [Paper: InterpretML Framework](https://arxiv.org/pdf/1909.09223.pdf)\n",
    "- [Video: The Science Behind InterpretML: Explainable Boosting Machine](https://www.youtube.com/watch?v=MREiHgHgl0k)"
   ]
  },
  {
   "cell_type": "markdown",
   "id": "engaging-string",
   "metadata": {},
   "source": [
    "## Bibliography\n",
    "\n",
    "```{bibliography} references.bib\n",
    ":style: unsrt\n",
    ":filter: docname in docnames\n",
    "```"
   ]
  },
  {
   "cell_type": "markdown",
   "id": "ruled-shell",
   "metadata": {},
   "source": [
    "[^params]: All models were trained with their default parameters. EBM's current default parameters are chosen for computational speed, to enable ease of experimentation. For the best accuracy and interpretability, we recommend using reference parameters: 100 inner bags, 100 outer bags, 5000 epochs, and a learning rate of 0.01"
   ]
  },
  {
   "cell_type": "markdown",
   "id": "elegant-charity",
   "metadata": {},
   "source": [
    "## API\n",
    "\n",
    "\n",
    "### ExplainableBoostingClassifier\n",
    "\n",
    "```{eval-rst}\n",
    ".. autoclass:: interpret.glassbox.ExplainableBoostingClassifier\n",
    "   :members:\n",
    "   :inherited-members:\n",
    "```\n",
    "\n",
    "### ExplainableBoostingRegressor\n",
    "\n",
    "```{eval-rst}\n",
    ".. autoclass:: interpret.glassbox.ExplainableBoostingRegressor\n",
    "   :members:\n",
    "   :inherited-members:\n",
    "```"
   ]
  }
 ],
 "metadata": {
  "celltoolbar": "Tags",
  "kernelspec": {
   "display_name": "Python 3",
   "language": "python",
   "name": "python3"
  },
  "language_info": {
   "codemirror_mode": {
    "name": "ipython",
    "version": 3
   },
   "file_extension": ".py",
   "mimetype": "text/x-python",
   "name": "python",
   "nbconvert_exporter": "python",
   "pygments_lexer": "ipython3",
   "version": "3.7.10"
  }
 },
 "nbformat": 4,
 "nbformat_minor": 5
}
