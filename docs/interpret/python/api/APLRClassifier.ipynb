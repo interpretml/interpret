{
 "cells": [
  {
   "cell_type": "markdown",
   "id": "api785f6",
   "metadata": {},
   "source": [
    "# APLRClassifier\n",
    "\n",
    "Link to Algorithm description: [Automatic Piecewise Linear Regression](../../aplr.ipynb)\n",
    "\n",
    "```{eval-rst}\n",
    ".. autoclass:: interpret.glassbox.APLRClassifier\n",
    "   :members:\n",
    "   :inherited-members:\n",
    "```"
   ]
  }
 ],
 "metadata": {
  "language_info": {
   "name": "python"
  }
 },
 "nbformat": 4,
 "nbformat_minor": 5
}
