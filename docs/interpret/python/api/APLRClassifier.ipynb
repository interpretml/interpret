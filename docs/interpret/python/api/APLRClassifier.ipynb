{
 "cells": [
  {
   "cell_type": "markdown",
   "id": "api785f6",
   "metadata": {},
   "source": [
    "# APLRClassifier\n",
    "\n",
    "Link to Algorithm description: [Automatic Piecewise Linear Regression](../../aplr.ipynb)\n",
    "\n",
    "The below API reference explains the methods added by the light wrapper in `InterpretML`. The API reference for the remaining members and methods can be found [here](https://github.com/ottenbreit-data-science/aplr/blob/main/API_REFERENCE_FOR_CLASSIFICATION.md).\n",
    "\n",
    "```{eval-rst}\n",
    ".. autoclass:: interpret.glassbox.APLRClassifier\n",
    "   :members:\n",
    "   :inherited-members:\n",
    "```"
   ]
  }
 ],
 "metadata": {
  "language_info": {
   "name": "python"
  }
 },
 "nbformat": 4,
 "nbformat_minor": 5
}
