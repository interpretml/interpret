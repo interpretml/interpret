{
 "cells": [
  {
   "cell_type": "markdown",
   "id": "api785f7",
   "metadata": {},
   "source": [
    "# purify\n",
    "\n",
    "```{eval-rst}\n",
    ".. autofunction:: interpret.utils.purify\n",
    "```"
   ]
  }
 ],
 "metadata": {
  "language_info": {
   "name": "python"
  }
 },
 "nbformat": 4,
 "nbformat_minor": 5
}
